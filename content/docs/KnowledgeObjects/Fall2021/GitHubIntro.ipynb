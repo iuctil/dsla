{
 "cells": [
  {
   "cell_type": "markdown",
   "metadata": {},
   "source": [
    "#How to GitHub"
   ]
  },
  {
   "cell_type": "markdown",
   "metadata": {},
   "source": [
    "##The Concept"
   ]
  },
  {
   "cell_type": "markdown",
   "metadata": {},
   "source": [
    "Most people who have spent time writing code with others have heard at least one of the following: \"GitHub\", \"Git\", \"Bitbucket,\" but what are these tools? The answer to this question depends on who you ask and how they are using them. "
   ]
  },
  {
   "cell_type": "markdown",
   "metadata": {},
   "source": [
    "The short answer requires us to take a step back. GitHub is technically a website. GitHub is defined as a webased tool for using Git. Git is an open source software that allows multiple people to work on a single web page. In short, git is the engine of collaboration, and GitHub is the vehicle. Git is a command line tool that allows for a push and pull between local files and a web repository. "
   ]
  },
  {
   "cell_type": "markdown",
   "metadata": {},
   "source": [
    "But what makes GitHub any better than using something like Google Collab, or simply sharing files? The catch all phrase is version control. The idea of version control is that a single piece of software is being built by multiple people at multiple times. When working amongst multiple collaborators you need a good way to keep track of the changes that each person makes and the different phases of work being done. You can see what this looks like below"
   ]
  },
  {
   "cell_type": "markdown",
   "metadata": {},
   "source": [
    "https://www.nobledesktop.com/image/blog/git-branches-merge.png"
   ]
  },
  {
   "cell_type": "markdown",
   "metadata": {},
   "source": [
    "##Basic Terms"
   ]
  },
  {
   "cell_type": "markdown",
   "metadata": {},
   "source": [
    "The basic elements of a Git workflow are\n",
    "\n",
    "<ol>\n",
    "  <li>Repository</li>\n",
    "  <li>Branch</li>\n",
    "  <li>Commit</li>\n",
    "  <li>Pull</li>\n",
    "  <li>Merge</li>\n",
    "</ol>\n"
   ]
  },
  {
   "cell_type": "markdown",
   "metadata": {},
   "source": [
    "An interactive tutorial of these basics can be found here"
   ]
  },
  {
   "cell_type": "markdown",
   "metadata": {},
   "source": [
    "https://guides.github.com/activities/hello-world/"
   ]
  },
  {
   "cell_type": "markdown",
   "metadata": {},
   "source": [
    "###Repository"
   ]
  },
  {
   "cell_type": "markdown",
   "metadata": {},
   "source": [
    "A Repository is like a folder that contains the elements of a project such as folders, script files, data sets, videos or images, and anything else a project might need. A README.md is almost always contained within a repository to describe the repository's elements."
   ]
  },
  {
   "cell_type": "markdown",
   "metadata": {},
   "source": [
    "###Branch"
   ]
  },
  {
   "cell_type": "markdown",
   "metadata": {},
   "source": [
    "A branch is like a version of a project. Every repository has a parent branch typically called, 'main.' You can create a new branch by making a copy of the main branch at any point in time. If someone else is working on the main branchIf someone else is working on a different branch while you were doing your work? You can pull in those changes too.? You can pull in those changes too. A synonym for branching is forking!"
   ]
  },
  {
   "cell_type": "markdown",
   "metadata": {},
   "source": [
    "###Fork"
   ]
  },
  {
   "cell_type": "markdown",
   "metadata": {},
   "source": [
    "A fork is quite similar to a branch, but for personal use. A fork is a brand new project that clones another project at a specific point in time. It makes an entire copy of a code base that you can branch to make changes. Many public code repositories have you create a fork to make changes so there is no risk of editing the real project. When a fork is merged back into a project, git will pull two full copies of the code. "
   ]
  },
  {
   "cell_type": "markdown",
   "metadata": {},
   "source": [
    "###Commit"
   ]
  },
  {
   "cell_type": "markdown",
   "metadata": {},
   "source": [
    "A commit is like savin the changes to a branch. In Git, all saved changes can be tracked and accessed. It is extremely important that commits are well documented so that when collaborators look at your commits, they understand why you made the changes you did."
   ]
  },
  {
   "cell_type": "markdown",
   "metadata": {},
   "source": [
    "###Pull"
   ]
  },
  {
   "cell_type": "markdown",
   "metadata": {},
   "source": [
    "A pull is called, \"The heart of Github,\" by the team. When you submit a pull request, it is not pulling code from the repository to your local machine, it is submitting your collaboration to be pulled into a branch of the project. A pull request shows the differences between the branch you're submitting it to and the submission!"
   ]
  },
  {
   "cell_type": "markdown",
   "metadata": {},
   "source": [
    "###Merge"
   ]
  },
  {
   "cell_type": "markdown",
   "metadata": {},
   "source": [
    "A merge brings a pull request back into the main branch!"
   ]
  },
  {
   "cell_type": "markdown",
   "metadata": {},
   "source": [
    "###Other Questions"
   ]
  },
  {
   "cell_type": "markdown",
   "metadata": {},
   "source": [
    "There are many other nuances to the vocabulary surrounding Git and GitHub. This blog is an excellent resource for explaining in layman's terms, some of those distinctions.\n",
    "\n",
    "https://stackoverflow.com/questions/3329943/what-are-the-differences-between-git-branch-fork-fetch-merge-rebase-and-clon"
   ]
  },
  {
   "cell_type": "markdown",
   "metadata": {},
   "source": [
    "##Use Cases"
   ]
  },
  {
   "cell_type": "markdown",
   "metadata": {},
   "source": [
    "Collaborators around the world use GitHub for all kinds of things!!"
   ]
  },
  {
   "cell_type": "markdown",
   "metadata": {},
   "source": [
    "##Tools to Use"
   ]
  },
  {
   "cell_type": "markdown",
   "metadata": {},
   "source": [
    "There are two disctinctions for the phrase, \"Tools to use.\" There are tools that allow you to use GitHub. There are also tools that function as an alternative to GitHub but allow you to use Git!"
   ]
  },
  {
   "cell_type": "markdown",
   "metadata": {},
   "source": [
    "Many IDE's have integrations for GitHub. These integrations allow you to push and pull changes seamlessly. One of the most common integrations is the Visual Studio Code integrations. Sublime and Slack are two additional common tools that integrate with GitHub. Here is some excellent documentation on the open source integration between github and VSCode. This integration creates a GUI that allows you to push specific pieces of work and evaluate differences. "
   ]
  },
  {
   "cell_type": "markdown",
   "metadata": {},
   "source": [
    "https://github.com/microsoft/vscode-docs"
   ]
  },
  {
   "cell_type": "markdown",
   "metadata": {},
   "source": [
    "Alternatives to GitHub with their own sets of integrations and are TaraVault and Bitbucket. There are additional open source tools but exploring the pros and cons of these tools is a long journey. Keep in mind the specs of your project if you find yourself needing to choose a way to collaborate on code. Researching the types of code you intend to write, what other types of files are required in your project, what security limitations you have, etc."
   ]
  },
  {
   "cell_type": "markdown",
   "metadata": {},
   "source": [
    "#Learning to Use GitHub"
   ]
  },
  {
   "cell_type": "markdown",
   "metadata": {},
   "source": [
    "There are some excellent tutorials availible online! The internal resources from github are excellent interactive tutorials for using the free online resource! They can be found at "
   ]
  },
  {
   "cell_type": "markdown",
   "metadata": {},
   "source": [
    "https://guides.github.com/"
   ]
  }
 ],
 "metadata": {
  "language_info": {
   "name": "python"
  },
  "orig_nbformat": 4
 },
 "nbformat": 4,
 "nbformat_minor": 2
}
